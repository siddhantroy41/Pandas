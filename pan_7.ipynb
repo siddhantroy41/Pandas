{
 "cells": [
  {
   "cell_type": "markdown",
   "metadata": {},
   "source": [
    "# Add/Remove Rows and Columns From DataFrames"
   ]
  },
  {
   "cell_type": "code",
   "execution_count": 2,
   "metadata": {},
   "outputs": [
    {
     "data": {
      "text/html": [
       "<div>\n",
       "<style scoped>\n",
       "    .dataframe tbody tr th:only-of-type {\n",
       "        vertical-align: middle;\n",
       "    }\n",
       "\n",
       "    .dataframe tbody tr th {\n",
       "        vertical-align: top;\n",
       "    }\n",
       "\n",
       "    .dataframe thead th {\n",
       "        text-align: right;\n",
       "    }\n",
       "</style>\n",
       "<table border=\"1\" class=\"dataframe\">\n",
       "  <thead>\n",
       "    <tr style=\"text-align: right;\">\n",
       "      <th></th>\n",
       "      <th>First</th>\n",
       "      <th>Last</th>\n",
       "      <th>Email</th>\n",
       "      <th>Age</th>\n",
       "    </tr>\n",
       "  </thead>\n",
       "  <tbody>\n",
       "    <tr>\n",
       "      <th>0</th>\n",
       "      <td>Siddhant</td>\n",
       "      <td>Roy</td>\n",
       "      <td>siddhantroy@gmail.com</td>\n",
       "      <td>18</td>\n",
       "    </tr>\n",
       "    <tr>\n",
       "      <th>1</th>\n",
       "      <td>Rupaniwta</td>\n",
       "      <td>Sahani</td>\n",
       "      <td>rupaniwtasahani@gmail.com</td>\n",
       "      <td>13</td>\n",
       "    </tr>\n",
       "    <tr>\n",
       "      <th>2</th>\n",
       "      <td>Karan</td>\n",
       "      <td>Yadav</td>\n",
       "      <td>karanyadaav@gmail.com</td>\n",
       "      <td>19</td>\n",
       "    </tr>\n",
       "  </tbody>\n",
       "</table>\n",
       "</div>"
      ],
      "text/plain": [
       "       First    Last                      Email  Age\n",
       "0   Siddhant     Roy      siddhantroy@gmail.com   18\n",
       "1  Rupaniwta  Sahani  rupaniwtasahani@gmail.com   13\n",
       "2      Karan   Yadav      karanyadaav@gmail.com   19"
      ]
     },
     "execution_count": 2,
     "metadata": {},
     "output_type": "execute_result"
    }
   ],
   "source": [
    "import pandas as pd\n",
    "people={\n",
    "    \"First\" :[\"Siddhant\",\"Rupaniwta\",\"Karan\"],\n",
    "    \"Last\" :[\"Roy\",\"Sahani\",\"Yadav\"],\n",
    "    \"Email\":[\"siddhantroy@gmail.com\",\"rupaniwtasahani@gmail.com\",\"karanyadaav@gmail.com\"],\n",
    "    \"Age\" :[18,13,19]\n",
    "}\n",
    "df=pd.DataFrame(people)\n",
    "df\n"
   ]
  },
  {
   "cell_type": "markdown",
   "metadata": {},
   "source": [
    "Adding a column:"
   ]
  },
  {
   "cell_type": "code",
   "execution_count": 3,
   "metadata": {},
   "outputs": [
    {
     "data": {
      "text/html": [
       "<div>\n",
       "<style scoped>\n",
       "    .dataframe tbody tr th:only-of-type {\n",
       "        vertical-align: middle;\n",
       "    }\n",
       "\n",
       "    .dataframe tbody tr th {\n",
       "        vertical-align: top;\n",
       "    }\n",
       "\n",
       "    .dataframe thead th {\n",
       "        text-align: right;\n",
       "    }\n",
       "</style>\n",
       "<table border=\"1\" class=\"dataframe\">\n",
       "  <thead>\n",
       "    <tr style=\"text-align: right;\">\n",
       "      <th></th>\n",
       "      <th>First</th>\n",
       "      <th>Last</th>\n",
       "      <th>Email</th>\n",
       "      <th>Age</th>\n",
       "      <th>Full_Name</th>\n",
       "    </tr>\n",
       "  </thead>\n",
       "  <tbody>\n",
       "    <tr>\n",
       "      <th>0</th>\n",
       "      <td>Siddhant</td>\n",
       "      <td>Roy</td>\n",
       "      <td>siddhantroy@gmail.com</td>\n",
       "      <td>18</td>\n",
       "      <td>Siddhant Roy</td>\n",
       "    </tr>\n",
       "    <tr>\n",
       "      <th>1</th>\n",
       "      <td>Rupaniwta</td>\n",
       "      <td>Sahani</td>\n",
       "      <td>rupaniwtasahani@gmail.com</td>\n",
       "      <td>13</td>\n",
       "      <td>Rupaniwta Sahani</td>\n",
       "    </tr>\n",
       "    <tr>\n",
       "      <th>2</th>\n",
       "      <td>Karan</td>\n",
       "      <td>Yadav</td>\n",
       "      <td>karanyadaav@gmail.com</td>\n",
       "      <td>19</td>\n",
       "      <td>Karan Yadav</td>\n",
       "    </tr>\n",
       "  </tbody>\n",
       "</table>\n",
       "</div>"
      ],
      "text/plain": [
       "       First    Last                      Email  Age         Full_Name\n",
       "0   Siddhant     Roy      siddhantroy@gmail.com   18      Siddhant Roy\n",
       "1  Rupaniwta  Sahani  rupaniwtasahani@gmail.com   13  Rupaniwta Sahani\n",
       "2      Karan   Yadav      karanyadaav@gmail.com   19       Karan Yadav"
      ]
     },
     "execution_count": 3,
     "metadata": {},
     "output_type": "execute_result"
    }
   ],
   "source": [
    "# to create a new column for the full name we can do this:\n",
    "\n",
    "df[\"Full_Name\"] = df[\"First\"]+\" \"+df[\"Last\"]\n",
    "df"
   ]
  },
  {
   "cell_type": "markdown",
   "metadata": {},
   "source": [
    "Deleting a column :"
   ]
  },
  {
   "cell_type": "code",
   "execution_count": 4,
   "metadata": {},
   "outputs": [
    {
     "data": {
      "text/html": [
       "<div>\n",
       "<style scoped>\n",
       "    .dataframe tbody tr th:only-of-type {\n",
       "        vertical-align: middle;\n",
       "    }\n",
       "\n",
       "    .dataframe tbody tr th {\n",
       "        vertical-align: top;\n",
       "    }\n",
       "\n",
       "    .dataframe thead th {\n",
       "        text-align: right;\n",
       "    }\n",
       "</style>\n",
       "<table border=\"1\" class=\"dataframe\">\n",
       "  <thead>\n",
       "    <tr style=\"text-align: right;\">\n",
       "      <th></th>\n",
       "      <th>Email</th>\n",
       "      <th>Age</th>\n",
       "      <th>Full_Name</th>\n",
       "    </tr>\n",
       "  </thead>\n",
       "  <tbody>\n",
       "    <tr>\n",
       "      <th>0</th>\n",
       "      <td>siddhantroy@gmail.com</td>\n",
       "      <td>18</td>\n",
       "      <td>Siddhant Roy</td>\n",
       "    </tr>\n",
       "    <tr>\n",
       "      <th>1</th>\n",
       "      <td>rupaniwtasahani@gmail.com</td>\n",
       "      <td>13</td>\n",
       "      <td>Rupaniwta Sahani</td>\n",
       "    </tr>\n",
       "    <tr>\n",
       "      <th>2</th>\n",
       "      <td>karanyadaav@gmail.com</td>\n",
       "      <td>19</td>\n",
       "      <td>Karan Yadav</td>\n",
       "    </tr>\n",
       "  </tbody>\n",
       "</table>\n",
       "</div>"
      ],
      "text/plain": [
       "                       Email  Age         Full_Name\n",
       "0      siddhantroy@gmail.com   18      Siddhant Roy\n",
       "1  rupaniwtasahani@gmail.com   13  Rupaniwta Sahani\n",
       "2      karanyadaav@gmail.com   19       Karan Yadav"
      ]
     },
     "execution_count": 4,
     "metadata": {},
     "output_type": "execute_result"
    }
   ],
   "source": [
    "#let's delete the first and last named column as we no longer need it :\n",
    "# to delete a single column we can just pass the name of it but if we want to delete multiplle columns we can pass it inside of a list\n",
    "#df.drop(columns=\"First\") to delete a single column :\n",
    "df.drop(columns=[\"First\",\"Last\"],inplace=True)\n",
    "df\n"
   ]
  },
  {
   "cell_type": "code",
   "execution_count": 5,
   "metadata": {},
   "outputs": [
    {
     "data": {
      "text/html": [
       "<div>\n",
       "<style scoped>\n",
       "    .dataframe tbody tr th:only-of-type {\n",
       "        vertical-align: middle;\n",
       "    }\n",
       "\n",
       "    .dataframe tbody tr th {\n",
       "        vertical-align: top;\n",
       "    }\n",
       "\n",
       "    .dataframe thead th {\n",
       "        text-align: right;\n",
       "    }\n",
       "</style>\n",
       "<table border=\"1\" class=\"dataframe\">\n",
       "  <thead>\n",
       "    <tr style=\"text-align: right;\">\n",
       "      <th></th>\n",
       "      <th>0</th>\n",
       "      <th>1</th>\n",
       "    </tr>\n",
       "  </thead>\n",
       "  <tbody>\n",
       "    <tr>\n",
       "      <th>0</th>\n",
       "      <td>Siddhant</td>\n",
       "      <td>Roy</td>\n",
       "    </tr>\n",
       "    <tr>\n",
       "      <th>1</th>\n",
       "      <td>Rupaniwta</td>\n",
       "      <td>Sahani</td>\n",
       "    </tr>\n",
       "    <tr>\n",
       "      <th>2</th>\n",
       "      <td>Karan</td>\n",
       "      <td>Yadav</td>\n",
       "    </tr>\n",
       "  </tbody>\n",
       "</table>\n",
       "</div>"
      ],
      "text/plain": [
       "           0       1\n",
       "0   Siddhant     Roy\n",
       "1  Rupaniwta  Sahani\n",
       "2      Karan   Yadav"
      ]
     },
     "execution_count": 5,
     "metadata": {},
     "output_type": "execute_result"
    }
   ],
   "source": [
    "#expand=True is used to convert the list into a dataframe so it can further be assigned to new columns\n",
    "df[\"Full_Name\"].str.split(\" \",expand=True)"
   ]
  },
  {
   "cell_type": "code",
   "execution_count": 6,
   "metadata": {},
   "outputs": [
    {
     "data": {
      "text/html": [
       "<div>\n",
       "<style scoped>\n",
       "    .dataframe tbody tr th:only-of-type {\n",
       "        vertical-align: middle;\n",
       "    }\n",
       "\n",
       "    .dataframe tbody tr th {\n",
       "        vertical-align: top;\n",
       "    }\n",
       "\n",
       "    .dataframe thead th {\n",
       "        text-align: right;\n",
       "    }\n",
       "</style>\n",
       "<table border=\"1\" class=\"dataframe\">\n",
       "  <thead>\n",
       "    <tr style=\"text-align: right;\">\n",
       "      <th></th>\n",
       "      <th>Email</th>\n",
       "      <th>Age</th>\n",
       "      <th>Full_Name</th>\n",
       "      <th>First</th>\n",
       "      <th>Last</th>\n",
       "    </tr>\n",
       "  </thead>\n",
       "  <tbody>\n",
       "    <tr>\n",
       "      <th>0</th>\n",
       "      <td>siddhantroy@gmail.com</td>\n",
       "      <td>18</td>\n",
       "      <td>Siddhant Roy</td>\n",
       "      <td>Siddhant</td>\n",
       "      <td>Roy</td>\n",
       "    </tr>\n",
       "    <tr>\n",
       "      <th>1</th>\n",
       "      <td>rupaniwtasahani@gmail.com</td>\n",
       "      <td>13</td>\n",
       "      <td>Rupaniwta Sahani</td>\n",
       "      <td>Rupaniwta</td>\n",
       "      <td>Sahani</td>\n",
       "    </tr>\n",
       "    <tr>\n",
       "      <th>2</th>\n",
       "      <td>karanyadaav@gmail.com</td>\n",
       "      <td>19</td>\n",
       "      <td>Karan Yadav</td>\n",
       "      <td>Karan</td>\n",
       "      <td>Yadav</td>\n",
       "    </tr>\n",
       "  </tbody>\n",
       "</table>\n",
       "</div>"
      ],
      "text/plain": [
       "                       Email  Age         Full_Name      First    Last\n",
       "0      siddhantroy@gmail.com   18      Siddhant Roy   Siddhant     Roy\n",
       "1  rupaniwtasahani@gmail.com   13  Rupaniwta Sahani  Rupaniwta  Sahani\n",
       "2      karanyadaav@gmail.com   19       Karan Yadav      Karan   Yadav"
      ]
     },
     "execution_count": 6,
     "metadata": {},
     "output_type": "execute_result"
    }
   ],
   "source": [
    "df[[\"First\",\"Last\"]]=df[\"Full_Name\"].str.split(\" \",expand=True)\n",
    "df\n",
    "\n",
    "#we can see that new columns name First and Last is being created from the expaned list earlier"
   ]
  },
  {
   "cell_type": "markdown",
   "metadata": {},
   "source": [
    "To add a single row of values or to add another dataframe to an existing dataframe we can use .concat() method:"
   ]
  },
  {
   "cell_type": "code",
   "execution_count": 4,
   "metadata": {},
   "outputs": [
    {
     "data": {
      "text/html": [
       "<div>\n",
       "<style scoped>\n",
       "    .dataframe tbody tr th:only-of-type {\n",
       "        vertical-align: middle;\n",
       "    }\n",
       "\n",
       "    .dataframe tbody tr th {\n",
       "        vertical-align: top;\n",
       "    }\n",
       "\n",
       "    .dataframe thead th {\n",
       "        text-align: right;\n",
       "    }\n",
       "</style>\n",
       "<table border=\"1\" class=\"dataframe\">\n",
       "  <thead>\n",
       "    <tr style=\"text-align: right;\">\n",
       "      <th></th>\n",
       "      <th>First</th>\n",
       "      <th>Last</th>\n",
       "      <th>Email</th>\n",
       "      <th>Age</th>\n",
       "    </tr>\n",
       "  </thead>\n",
       "  <tbody>\n",
       "    <tr>\n",
       "      <th>0</th>\n",
       "      <td>Siddhant</td>\n",
       "      <td>Roy</td>\n",
       "      <td>siddhantroy@gmail.com</td>\n",
       "      <td>18</td>\n",
       "    </tr>\n",
       "    <tr>\n",
       "      <th>1</th>\n",
       "      <td>Rupaniwta</td>\n",
       "      <td>Sahani</td>\n",
       "      <td>rupaniwtasahani@gmail.com</td>\n",
       "      <td>13</td>\n",
       "    </tr>\n",
       "    <tr>\n",
       "      <th>2</th>\n",
       "      <td>Karan</td>\n",
       "      <td>Yadav</td>\n",
       "      <td>karanyadaav@gmail.com</td>\n",
       "      <td>19</td>\n",
       "    </tr>\n",
       "  </tbody>\n",
       "</table>\n",
       "</div>"
      ],
      "text/plain": [
       "       First    Last                      Email  Age\n",
       "0   Siddhant     Roy      siddhantroy@gmail.com   18\n",
       "1  Rupaniwta  Sahani  rupaniwtasahani@gmail.com   13\n",
       "2      Karan   Yadav      karanyadaav@gmail.com   19"
      ]
     },
     "execution_count": 4,
     "metadata": {},
     "output_type": "execute_result"
    }
   ],
   "source": [
    "#our existing dataframe\n",
    "df"
   ]
  },
  {
   "cell_type": "code",
   "execution_count": 5,
   "metadata": {},
   "outputs": [
    {
     "data": {
      "text/html": [
       "<div>\n",
       "<style scoped>\n",
       "    .dataframe tbody tr th:only-of-type {\n",
       "        vertical-align: middle;\n",
       "    }\n",
       "\n",
       "    .dataframe tbody tr th {\n",
       "        vertical-align: top;\n",
       "    }\n",
       "\n",
       "    .dataframe thead th {\n",
       "        text-align: right;\n",
       "    }\n",
       "</style>\n",
       "<table border=\"1\" class=\"dataframe\">\n",
       "  <thead>\n",
       "    <tr style=\"text-align: right;\">\n",
       "      <th></th>\n",
       "      <th>First</th>\n",
       "      <th>Last</th>\n",
       "      <th>Email</th>\n",
       "      <th>Age</th>\n",
       "    </tr>\n",
       "  </thead>\n",
       "  <tbody>\n",
       "    <tr>\n",
       "      <th>0</th>\n",
       "      <td>Adi</td>\n",
       "      <td>Sharma</td>\n",
       "      <td>adisharma@gmail.com</td>\n",
       "      <td>18</td>\n",
       "    </tr>\n",
       "    <tr>\n",
       "      <th>1</th>\n",
       "      <td>Simran</td>\n",
       "      <td>Roy</td>\n",
       "      <td>simranroy@gmail.com</td>\n",
       "      <td>19</td>\n",
       "    </tr>\n",
       "  </tbody>\n",
       "</table>\n",
       "</div>"
      ],
      "text/plain": [
       "    First    Last                Email  Age\n",
       "0     Adi  Sharma  adisharma@gmail.com   18\n",
       "1  Simran     Roy  simranroy@gmail.com   19"
      ]
     },
     "execution_count": 5,
     "metadata": {},
     "output_type": "execute_result"
    }
   ],
   "source": [
    "# we make a new dataframe :\n",
    "people2={\n",
    "    \"First\" :[\"Adi\",\"Simran\"],\n",
    "    \"Last\" :[\"Sharma\",\"Roy\"],\n",
    "    \"Email\":[\"adisharma@gmail.com\",\"simranroy@gmail.com\"],\n",
    "    \"Age\" :[18,19]\n",
    "}\n",
    "new_df=pd.DataFrame(people2)\n",
    "new_df"
   ]
  },
  {
   "cell_type": "code",
   "execution_count": 6,
   "metadata": {},
   "outputs": [
    {
     "data": {
      "text/html": [
       "<div>\n",
       "<style scoped>\n",
       "    .dataframe tbody tr th:only-of-type {\n",
       "        vertical-align: middle;\n",
       "    }\n",
       "\n",
       "    .dataframe tbody tr th {\n",
       "        vertical-align: top;\n",
       "    }\n",
       "\n",
       "    .dataframe thead th {\n",
       "        text-align: right;\n",
       "    }\n",
       "</style>\n",
       "<table border=\"1\" class=\"dataframe\">\n",
       "  <thead>\n",
       "    <tr style=\"text-align: right;\">\n",
       "      <th></th>\n",
       "      <th>First</th>\n",
       "      <th>Last</th>\n",
       "      <th>Email</th>\n",
       "      <th>Age</th>\n",
       "    </tr>\n",
       "  </thead>\n",
       "  <tbody>\n",
       "    <tr>\n",
       "      <th>0</th>\n",
       "      <td>Siddhant</td>\n",
       "      <td>Roy</td>\n",
       "      <td>siddhantroy@gmail.com</td>\n",
       "      <td>18</td>\n",
       "    </tr>\n",
       "    <tr>\n",
       "      <th>1</th>\n",
       "      <td>Rupaniwta</td>\n",
       "      <td>Sahani</td>\n",
       "      <td>rupaniwtasahani@gmail.com</td>\n",
       "      <td>13</td>\n",
       "    </tr>\n",
       "    <tr>\n",
       "      <th>2</th>\n",
       "      <td>Karan</td>\n",
       "      <td>Yadav</td>\n",
       "      <td>karanyadaav@gmail.com</td>\n",
       "      <td>19</td>\n",
       "    </tr>\n",
       "    <tr>\n",
       "      <th>3</th>\n",
       "      <td>Adi</td>\n",
       "      <td>Sharma</td>\n",
       "      <td>adisharma@gmail.com</td>\n",
       "      <td>18</td>\n",
       "    </tr>\n",
       "    <tr>\n",
       "      <th>4</th>\n",
       "      <td>Simran</td>\n",
       "      <td>Roy</td>\n",
       "      <td>simranroy@gmail.com</td>\n",
       "      <td>19</td>\n",
       "    </tr>\n",
       "  </tbody>\n",
       "</table>\n",
       "</div>"
      ],
      "text/plain": [
       "       First    Last                      Email  Age\n",
       "0   Siddhant     Roy      siddhantroy@gmail.com   18\n",
       "1  Rupaniwta  Sahani  rupaniwtasahani@gmail.com   13\n",
       "2      Karan   Yadav      karanyadaav@gmail.com   19\n",
       "3        Adi  Sharma        adisharma@gmail.com   18\n",
       "4     Simran     Roy        simranroy@gmail.com   19"
      ]
     },
     "execution_count": 6,
     "metadata": {},
     "output_type": "execute_result"
    }
   ],
   "source": [
    "#to add the new values or add the new dataframe to the existing datframe we can use pd.concat()\n",
    "result_df=pd.concat([df,new_df],ignore_index=True)\n",
    "result_df"
   ]
  },
  {
   "cell_type": "code",
   "execution_count": 7,
   "metadata": {},
   "outputs": [
    {
     "data": {
      "text/html": [
       "<div>\n",
       "<style scoped>\n",
       "    .dataframe tbody tr th:only-of-type {\n",
       "        vertical-align: middle;\n",
       "    }\n",
       "\n",
       "    .dataframe tbody tr th {\n",
       "        vertical-align: top;\n",
       "    }\n",
       "\n",
       "    .dataframe thead th {\n",
       "        text-align: right;\n",
       "    }\n",
       "</style>\n",
       "<table border=\"1\" class=\"dataframe\">\n",
       "  <thead>\n",
       "    <tr style=\"text-align: right;\">\n",
       "      <th></th>\n",
       "      <th>First</th>\n",
       "      <th>Last</th>\n",
       "    </tr>\n",
       "  </thead>\n",
       "  <tbody>\n",
       "    <tr>\n",
       "      <th>0</th>\n",
       "      <td>Siddhant</td>\n",
       "      <td>Roy</td>\n",
       "    </tr>\n",
       "    <tr>\n",
       "      <th>3</th>\n",
       "      <td>Adi</td>\n",
       "      <td>Sharma</td>\n",
       "    </tr>\n",
       "  </tbody>\n",
       "</table>\n",
       "</div>"
      ],
      "text/plain": [
       "      First    Last\n",
       "0  Siddhant     Roy\n",
       "3       Adi  Sharma"
      ]
     },
     "execution_count": 7,
     "metadata": {},
     "output_type": "execute_result"
    }
   ],
   "source": [
    "filt=result_df[\"Age\"]==18\n",
    "result_df.loc[filt,[\"First\",\"Last\"]]    "
   ]
  }
 ],
 "metadata": {
  "kernelspec": {
   "display_name": "Python 3",
   "language": "python",
   "name": "python3"
  },
  "language_info": {
   "codemirror_mode": {
    "name": "ipython",
    "version": 3
   },
   "file_extension": ".py",
   "mimetype": "text/x-python",
   "name": "python",
   "nbconvert_exporter": "python",
   "pygments_lexer": "ipython3",
   "version": "3.12.5"
  }
 },
 "nbformat": 4,
 "nbformat_minor": 2
}
